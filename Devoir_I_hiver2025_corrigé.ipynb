{
  "cells": [
    {
      "cell_type": "markdown",
      "metadata": {},
      "source": [
        "**MENBRES DU GROUPE**\n",
        "\n",
        "DJIEUNANG NOUMBO NELIE MABELLE          DJIN28279107\n",
        "\n",
        "TAMBAT TRESOR MEGANE                    TAMT79360604"
      ]
    },
    {
      "cell_type": "markdown",
      "metadata": {
        "id": "KMkDFk-K7JbJ"
      },
      "source": [
        "**Cours :** INF 1683 Apprentissage Automatique (Machine Learning)\n",
        "\n",
        "**DEVOIR1 – Hiver 2025 :** Classification\n",
        "\n",
        "**Date limite pour remettre votre travail :** 23 février\n",
        "\n",
        "**Modalités de travail:**\n",
        "\n",
        "1.  Les TPs se feront individuellement ou par groupe de 2(maximum) sur Python.\n",
        "2.  La remise des TP doit se faire sur Moodle.\n",
        "3.  Un retard de remise de TP de $n$ journées va causer la perte de $20 n$ points.\n",
        "4.  Le plagiat ne sera pas toléré. \n",
        "\n",
        "\n",
        "\n",
        "\n",
        "**Description des données:**\n",
        "\n",
        "La description originale des données est sur le site : https://archive.ics.uci.edu/dataset/350/default+of+credit+card+clients\n",
        "\n",
        "L’ensemble contient 3000 instances de données de clients et vise à étudier la prédiction du défaut de paiement. Chaque client est décrit sur 23 attributs numétique.  \n",
        "\n",
        "**Implantation demandée**\n",
        "\n",
        "On vous demande de tester la classification supervisée avec les algorithmes suivants :\n",
        "\n",
        "*   KPPV (à 7 voisins)\n",
        "*   Regression Logistique\n",
        "*   Arbre de décision (profondeur maximale 10)\n",
        "\n",
        "\n",
        "\n",
        "**Instructions:**\n",
        "\n",
        "\n",
        "*   Utiliser 80 % des données pour l’entrainement et 20% pour la validation).\n",
        "\n",
        "* Remettre votre devoir dans ce fichier Jupyter, avec une cellule pour chaque algorithme.\n",
        "\n",
        "*   Afficher les métriques suivantes pour la validation de la classification : exactitute, précision, rappel, matrice de confusion.\n",
        "Utiliser les fonctions : **accuracy_score, recall_score, precision_score, confusion_matrix** de  sklearn.metrics\n",
        "\n",
        "*   Il est préférable d’équilibrer les classes Y=0 et Y=1 pour un meilleur entrainement.  Utiliser la fonction **imblearn.over_sampling.RandomOverSampler**\n",
        "\n",
        "* Il est préférable de centrer et standardiser les données.\n",
        "Utiliser la fonction **sklearn.preprocessing.StandardScaler**\n",
        "\n",
        "\n"
      ]
    },
    {
      "cell_type": "code",
      "execution_count": 1,
      "metadata": {
        "id": "GTxiqjcNmbvQ"
      },
      "outputs": [],
      "source": [
        "\n",
        "import numpy as np\n",
        "import matplotlib.pyplot as plt\n",
        "import pandas as pd\n",
        "\n",
        "from sklearn.neighbors import KNeighborsClassifier\n",
        "from sklearn.tree import DecisionTreeClassifier\n",
        "from sklearn.ensemble import RandomForestClassifier\n",
        "from sklearn.naive_bayes import GaussianNB\n",
        "from sklearn.svm import SVC\n",
        "from sklearn.neural_network import MLPClassifier\n",
        "from sklearn.model_selection import train_test_split\n",
        "from sklearn.metrics import accuracy_score, recall_score, precision_score, confusion_matrix\n",
        "from imblearn.over_sampling import RandomOverSampler as ROS # training data oversampling\n",
        "from sklearn.preprocessing import StandardScaler\n",
        "from sklearn.compose import ColumnTransformer\n",
        "from sklearn.metrics import accuracy_score, classification_report, roc_curve,roc_auc_score\n",
        "from sklearn.linear_model import LogisticRegression\n",
        "import seaborn as sns"
      ]
    },
    {
      "cell_type": "code",
      "execution_count": 2,
      "metadata": {
        "id": "PJjuX2u41jDj"
      },
      "outputs": [],
      "source": [
        "\n",
        "data = pd.read_excel(r\"C:\\Users\\Durant.Nguefack\\Downloads\\devoir 1 Machine Learning 2025\\devoir 1 Machine Learning 2025\\default_of_credit_card.xls\")\n",
        "X, y = data.iloc[:,1:24].to_numpy(), data.iloc[:,24].to_numpy()"
      ]
    },
    {
      "cell_type": "code",
      "execution_count": 3,
      "metadata": {},
      "outputs": [
        {
          "data": {
            "text/plain": [
              "(30000, 25)"
            ]
          },
          "execution_count": 3,
          "metadata": {},
          "output_type": "execute_result"
        }
      ],
      "source": [
        "data.shape"
      ]
    },
    {
      "cell_type": "markdown",
      "metadata": {},
      "source": [
        "explorons les premieres lignes "
      ]
    },
    {
      "cell_type": "code",
      "execution_count": 4,
      "metadata": {},
      "outputs": [
        {
          "data": {
            "text/html": [
              "<div>\n",
              "<style scoped>\n",
              "    .dataframe tbody tr th:only-of-type {\n",
              "        vertical-align: middle;\n",
              "    }\n",
              "\n",
              "    .dataframe tbody tr th {\n",
              "        vertical-align: top;\n",
              "    }\n",
              "\n",
              "    .dataframe thead th {\n",
              "        text-align: right;\n",
              "    }\n",
              "</style>\n",
              "<table border=\"1\" class=\"dataframe\">\n",
              "  <thead>\n",
              "    <tr style=\"text-align: right;\">\n",
              "      <th></th>\n",
              "      <th>ID</th>\n",
              "      <th>LIMIT_BAL</th>\n",
              "      <th>SEX</th>\n",
              "      <th>EDUCATION</th>\n",
              "      <th>MARRIAGE</th>\n",
              "      <th>AGE</th>\n",
              "      <th>PAY_0</th>\n",
              "      <th>PAY_2</th>\n",
              "      <th>PAY_3</th>\n",
              "      <th>PAY_4</th>\n",
              "      <th>...</th>\n",
              "      <th>BILL_AMT4</th>\n",
              "      <th>BILL_AMT5</th>\n",
              "      <th>BILL_AMT6</th>\n",
              "      <th>PAY_AMT1</th>\n",
              "      <th>PAY_AMT2</th>\n",
              "      <th>PAY_AMT3</th>\n",
              "      <th>PAY_AMT4</th>\n",
              "      <th>PAY_AMT5</th>\n",
              "      <th>PAY_AMT6</th>\n",
              "      <th>default payment next month</th>\n",
              "    </tr>\n",
              "  </thead>\n",
              "  <tbody>\n",
              "    <tr>\n",
              "      <th>0</th>\n",
              "      <td>1</td>\n",
              "      <td>20000</td>\n",
              "      <td>2</td>\n",
              "      <td>2</td>\n",
              "      <td>1</td>\n",
              "      <td>24</td>\n",
              "      <td>2</td>\n",
              "      <td>2</td>\n",
              "      <td>-1</td>\n",
              "      <td>-1</td>\n",
              "      <td>...</td>\n",
              "      <td>0</td>\n",
              "      <td>0</td>\n",
              "      <td>0</td>\n",
              "      <td>0</td>\n",
              "      <td>689</td>\n",
              "      <td>0</td>\n",
              "      <td>0</td>\n",
              "      <td>0</td>\n",
              "      <td>0</td>\n",
              "      <td>1</td>\n",
              "    </tr>\n",
              "    <tr>\n",
              "      <th>1</th>\n",
              "      <td>2</td>\n",
              "      <td>120000</td>\n",
              "      <td>2</td>\n",
              "      <td>2</td>\n",
              "      <td>2</td>\n",
              "      <td>26</td>\n",
              "      <td>-1</td>\n",
              "      <td>2</td>\n",
              "      <td>0</td>\n",
              "      <td>0</td>\n",
              "      <td>...</td>\n",
              "      <td>3272</td>\n",
              "      <td>3455</td>\n",
              "      <td>3261</td>\n",
              "      <td>0</td>\n",
              "      <td>1000</td>\n",
              "      <td>1000</td>\n",
              "      <td>1000</td>\n",
              "      <td>0</td>\n",
              "      <td>2000</td>\n",
              "      <td>1</td>\n",
              "    </tr>\n",
              "    <tr>\n",
              "      <th>2</th>\n",
              "      <td>3</td>\n",
              "      <td>90000</td>\n",
              "      <td>2</td>\n",
              "      <td>2</td>\n",
              "      <td>2</td>\n",
              "      <td>34</td>\n",
              "      <td>0</td>\n",
              "      <td>0</td>\n",
              "      <td>0</td>\n",
              "      <td>0</td>\n",
              "      <td>...</td>\n",
              "      <td>14331</td>\n",
              "      <td>14948</td>\n",
              "      <td>15549</td>\n",
              "      <td>1518</td>\n",
              "      <td>1500</td>\n",
              "      <td>1000</td>\n",
              "      <td>1000</td>\n",
              "      <td>1000</td>\n",
              "      <td>5000</td>\n",
              "      <td>0</td>\n",
              "    </tr>\n",
              "    <tr>\n",
              "      <th>3</th>\n",
              "      <td>4</td>\n",
              "      <td>50000</td>\n",
              "      <td>2</td>\n",
              "      <td>2</td>\n",
              "      <td>1</td>\n",
              "      <td>37</td>\n",
              "      <td>0</td>\n",
              "      <td>0</td>\n",
              "      <td>0</td>\n",
              "      <td>0</td>\n",
              "      <td>...</td>\n",
              "      <td>28314</td>\n",
              "      <td>28959</td>\n",
              "      <td>29547</td>\n",
              "      <td>2000</td>\n",
              "      <td>2019</td>\n",
              "      <td>1200</td>\n",
              "      <td>1100</td>\n",
              "      <td>1069</td>\n",
              "      <td>1000</td>\n",
              "      <td>0</td>\n",
              "    </tr>\n",
              "    <tr>\n",
              "      <th>4</th>\n",
              "      <td>5</td>\n",
              "      <td>50000</td>\n",
              "      <td>1</td>\n",
              "      <td>2</td>\n",
              "      <td>1</td>\n",
              "      <td>57</td>\n",
              "      <td>-1</td>\n",
              "      <td>0</td>\n",
              "      <td>-1</td>\n",
              "      <td>0</td>\n",
              "      <td>...</td>\n",
              "      <td>20940</td>\n",
              "      <td>19146</td>\n",
              "      <td>19131</td>\n",
              "      <td>2000</td>\n",
              "      <td>36681</td>\n",
              "      <td>10000</td>\n",
              "      <td>9000</td>\n",
              "      <td>689</td>\n",
              "      <td>679</td>\n",
              "      <td>0</td>\n",
              "    </tr>\n",
              "  </tbody>\n",
              "</table>\n",
              "<p>5 rows × 25 columns</p>\n",
              "</div>"
            ],
            "text/plain": [
              "   ID  LIMIT_BAL  SEX  EDUCATION  MARRIAGE  AGE  PAY_0  PAY_2  PAY_3  PAY_4  \\\n",
              "0   1      20000    2          2         1   24      2      2     -1     -1   \n",
              "1   2     120000    2          2         2   26     -1      2      0      0   \n",
              "2   3      90000    2          2         2   34      0      0      0      0   \n",
              "3   4      50000    2          2         1   37      0      0      0      0   \n",
              "4   5      50000    1          2         1   57     -1      0     -1      0   \n",
              "\n",
              "   ...  BILL_AMT4  BILL_AMT5  BILL_AMT6  PAY_AMT1  PAY_AMT2  PAY_AMT3  \\\n",
              "0  ...          0          0          0         0       689         0   \n",
              "1  ...       3272       3455       3261         0      1000      1000   \n",
              "2  ...      14331      14948      15549      1518      1500      1000   \n",
              "3  ...      28314      28959      29547      2000      2019      1200   \n",
              "4  ...      20940      19146      19131      2000     36681     10000   \n",
              "\n",
              "   PAY_AMT4  PAY_AMT5  PAY_AMT6  default payment next month  \n",
              "0         0         0         0                           1  \n",
              "1      1000         0      2000                           1  \n",
              "2      1000      1000      5000                           0  \n",
              "3      1100      1069      1000                           0  \n",
              "4      9000       689       679                           0  \n",
              "\n",
              "[5 rows x 25 columns]"
            ]
          },
          "execution_count": 4,
          "metadata": {},
          "output_type": "execute_result"
        }
      ],
      "source": [
        "data.head(5)"
      ]
    },
    {
      "cell_type": "markdown",
      "metadata": {},
      "source": [
        "nous allons supprimer la colone id parceque notre jeu de donner est deja numerote"
      ]
    },
    {
      "cell_type": "code",
      "execution_count": 5,
      "metadata": {},
      "outputs": [],
      "source": [
        "if \"ID\" in data.columns:\n",
        "    df = data.drop(columns=[\"ID\"])"
      ]
    },
    {
      "cell_type": "code",
      "execution_count": 6,
      "metadata": {},
      "outputs": [
        {
          "data": {
            "text/plain": [
              "Index(['ID', 'LIMIT_BAL', 'SEX', 'EDUCATION', 'MARRIAGE', 'AGE', 'PAY_0',\n",
              "       'PAY_2', 'PAY_3', 'PAY_4', 'PAY_5', 'PAY_6', 'BILL_AMT1', 'BILL_AMT2',\n",
              "       'BILL_AMT3', 'BILL_AMT4', 'BILL_AMT5', 'BILL_AMT6', 'PAY_AMT1',\n",
              "       'PAY_AMT2', 'PAY_AMT3', 'PAY_AMT4', 'PAY_AMT5', 'PAY_AMT6',\n",
              "       'default payment next month'],\n",
              "      dtype='object')"
            ]
          },
          "execution_count": 6,
          "metadata": {},
          "output_type": "execute_result"
        }
      ],
      "source": [
        "data.columns"
      ]
    },
    {
      "cell_type": "code",
      "execution_count": 7,
      "metadata": {},
      "outputs": [
        {
          "data": {
            "text/plain": [
              "[]"
            ]
          },
          "execution_count": 7,
          "metadata": {},
          "output_type": "execute_result"
        }
      ],
      "source": [
        "vars_with_na = [var for var in data.columns if data[var].isnull().mean() > 0]\n",
        "vars_with_na\n"
      ]
    },
    {
      "cell_type": "code",
      "execution_count": 8,
      "metadata": {},
      "outputs": [
        {
          "name": "stdout",
          "output_type": "stream",
          "text": [
            "ID                            0\n",
            "LIMIT_BAL                     0\n",
            "SEX                           0\n",
            "EDUCATION                     0\n",
            "MARRIAGE                      0\n",
            "AGE                           0\n",
            "PAY_0                         0\n",
            "PAY_2                         0\n",
            "PAY_3                         0\n",
            "PAY_4                         0\n",
            "PAY_5                         0\n",
            "PAY_6                         0\n",
            "BILL_AMT1                     0\n",
            "BILL_AMT2                     0\n",
            "BILL_AMT3                     0\n",
            "BILL_AMT4                     0\n",
            "BILL_AMT5                     0\n",
            "BILL_AMT6                     0\n",
            "PAY_AMT1                      0\n",
            "PAY_AMT2                      0\n",
            "PAY_AMT3                      0\n",
            "PAY_AMT4                      0\n",
            "PAY_AMT5                      0\n",
            "PAY_AMT6                      0\n",
            "default payment next month    0\n",
            "dtype: int64\n"
          ]
        }
      ],
      "source": [
        "print(data.isnull().sum())"
      ]
    },
    {
      "cell_type": "markdown",
      "metadata": {},
      "source": [
        "nous constatons qu'ils y'a aucune colonne avec observation manquante ni de valeur manquantes"
      ]
    },
    {
      "cell_type": "code",
      "execution_count": 9,
      "metadata": {},
      "outputs": [
        {
          "data": {
            "text/plain": [
              "ID                            int64\n",
              "LIMIT_BAL                     int64\n",
              "SEX                           int64\n",
              "EDUCATION                     int64\n",
              "MARRIAGE                      int64\n",
              "AGE                           int64\n",
              "PAY_0                         int64\n",
              "PAY_2                         int64\n",
              "PAY_3                         int64\n",
              "PAY_4                         int64\n",
              "PAY_5                         int64\n",
              "PAY_6                         int64\n",
              "BILL_AMT1                     int64\n",
              "BILL_AMT2                     int64\n",
              "BILL_AMT3                     int64\n",
              "BILL_AMT4                     int64\n",
              "BILL_AMT5                     int64\n",
              "BILL_AMT6                     int64\n",
              "PAY_AMT1                      int64\n",
              "PAY_AMT2                      int64\n",
              "PAY_AMT3                      int64\n",
              "PAY_AMT4                      int64\n",
              "PAY_AMT5                      int64\n",
              "PAY_AMT6                      int64\n",
              "default payment next month    int64\n",
              "dtype: object"
            ]
          },
          "execution_count": 9,
          "metadata": {},
          "output_type": "execute_result"
        }
      ],
      "source": [
        "data.dtypes"
      ]
    },
    {
      "cell_type": "code",
      "execution_count": 10,
      "metadata": {},
      "outputs": [
        {
          "data": {
            "text/html": [
              "<div>\n",
              "<style scoped>\n",
              "    .dataframe tbody tr th:only-of-type {\n",
              "        vertical-align: middle;\n",
              "    }\n",
              "\n",
              "    .dataframe tbody tr th {\n",
              "        vertical-align: top;\n",
              "    }\n",
              "\n",
              "    .dataframe thead th {\n",
              "        text-align: right;\n",
              "    }\n",
              "</style>\n",
              "<table border=\"1\" class=\"dataframe\">\n",
              "  <thead>\n",
              "    <tr style=\"text-align: right;\">\n",
              "      <th></th>\n",
              "      <th>LIMIT_BAL</th>\n",
              "      <th>SEX</th>\n",
              "      <th>EDUCATION</th>\n",
              "      <th>MARRIAGE</th>\n",
              "      <th>AGE</th>\n",
              "      <th>PAY_0</th>\n",
              "      <th>PAY_2</th>\n",
              "      <th>PAY_3</th>\n",
              "      <th>PAY_4</th>\n",
              "      <th>PAY_5</th>\n",
              "      <th>...</th>\n",
              "      <th>BILL_AMT4</th>\n",
              "      <th>BILL_AMT5</th>\n",
              "      <th>BILL_AMT6</th>\n",
              "      <th>PAY_AMT1</th>\n",
              "      <th>PAY_AMT2</th>\n",
              "      <th>PAY_AMT3</th>\n",
              "      <th>PAY_AMT4</th>\n",
              "      <th>PAY_AMT5</th>\n",
              "      <th>PAY_AMT6</th>\n",
              "      <th>default payment next month</th>\n",
              "    </tr>\n",
              "  </thead>\n",
              "  <tbody>\n",
              "    <tr>\n",
              "      <th>count</th>\n",
              "      <td>30000.000000</td>\n",
              "      <td>30000.000000</td>\n",
              "      <td>30000.000000</td>\n",
              "      <td>30000.000000</td>\n",
              "      <td>30000.000000</td>\n",
              "      <td>30000.000000</td>\n",
              "      <td>30000.000000</td>\n",
              "      <td>30000.000000</td>\n",
              "      <td>30000.000000</td>\n",
              "      <td>30000.000000</td>\n",
              "      <td>...</td>\n",
              "      <td>30000.000000</td>\n",
              "      <td>30000.000000</td>\n",
              "      <td>30000.000000</td>\n",
              "      <td>30000.000000</td>\n",
              "      <td>3.000000e+04</td>\n",
              "      <td>30000.00000</td>\n",
              "      <td>30000.000000</td>\n",
              "      <td>30000.000000</td>\n",
              "      <td>30000.000000</td>\n",
              "      <td>30000.000000</td>\n",
              "    </tr>\n",
              "    <tr>\n",
              "      <th>mean</th>\n",
              "      <td>167484.322667</td>\n",
              "      <td>1.603733</td>\n",
              "      <td>1.853133</td>\n",
              "      <td>1.551867</td>\n",
              "      <td>35.485500</td>\n",
              "      <td>-0.016700</td>\n",
              "      <td>-0.133767</td>\n",
              "      <td>-0.166200</td>\n",
              "      <td>-0.220667</td>\n",
              "      <td>-0.266200</td>\n",
              "      <td>...</td>\n",
              "      <td>43262.948967</td>\n",
              "      <td>40311.400967</td>\n",
              "      <td>38871.760400</td>\n",
              "      <td>5663.580500</td>\n",
              "      <td>5.921163e+03</td>\n",
              "      <td>5225.68150</td>\n",
              "      <td>4826.076867</td>\n",
              "      <td>4799.387633</td>\n",
              "      <td>5215.502567</td>\n",
              "      <td>0.221200</td>\n",
              "    </tr>\n",
              "    <tr>\n",
              "      <th>std</th>\n",
              "      <td>129747.661567</td>\n",
              "      <td>0.489129</td>\n",
              "      <td>0.790349</td>\n",
              "      <td>0.521970</td>\n",
              "      <td>9.217904</td>\n",
              "      <td>1.123802</td>\n",
              "      <td>1.197186</td>\n",
              "      <td>1.196868</td>\n",
              "      <td>1.169139</td>\n",
              "      <td>1.133187</td>\n",
              "      <td>...</td>\n",
              "      <td>64332.856134</td>\n",
              "      <td>60797.155770</td>\n",
              "      <td>59554.107537</td>\n",
              "      <td>16563.280354</td>\n",
              "      <td>2.304087e+04</td>\n",
              "      <td>17606.96147</td>\n",
              "      <td>15666.159744</td>\n",
              "      <td>15278.305679</td>\n",
              "      <td>17777.465775</td>\n",
              "      <td>0.415062</td>\n",
              "    </tr>\n",
              "    <tr>\n",
              "      <th>min</th>\n",
              "      <td>10000.000000</td>\n",
              "      <td>1.000000</td>\n",
              "      <td>0.000000</td>\n",
              "      <td>0.000000</td>\n",
              "      <td>21.000000</td>\n",
              "      <td>-2.000000</td>\n",
              "      <td>-2.000000</td>\n",
              "      <td>-2.000000</td>\n",
              "      <td>-2.000000</td>\n",
              "      <td>-2.000000</td>\n",
              "      <td>...</td>\n",
              "      <td>-170000.000000</td>\n",
              "      <td>-81334.000000</td>\n",
              "      <td>-339603.000000</td>\n",
              "      <td>0.000000</td>\n",
              "      <td>0.000000e+00</td>\n",
              "      <td>0.00000</td>\n",
              "      <td>0.000000</td>\n",
              "      <td>0.000000</td>\n",
              "      <td>0.000000</td>\n",
              "      <td>0.000000</td>\n",
              "    </tr>\n",
              "    <tr>\n",
              "      <th>25%</th>\n",
              "      <td>50000.000000</td>\n",
              "      <td>1.000000</td>\n",
              "      <td>1.000000</td>\n",
              "      <td>1.000000</td>\n",
              "      <td>28.000000</td>\n",
              "      <td>-1.000000</td>\n",
              "      <td>-1.000000</td>\n",
              "      <td>-1.000000</td>\n",
              "      <td>-1.000000</td>\n",
              "      <td>-1.000000</td>\n",
              "      <td>...</td>\n",
              "      <td>2326.750000</td>\n",
              "      <td>1763.000000</td>\n",
              "      <td>1256.000000</td>\n",
              "      <td>1000.000000</td>\n",
              "      <td>8.330000e+02</td>\n",
              "      <td>390.00000</td>\n",
              "      <td>296.000000</td>\n",
              "      <td>252.500000</td>\n",
              "      <td>117.750000</td>\n",
              "      <td>0.000000</td>\n",
              "    </tr>\n",
              "    <tr>\n",
              "      <th>50%</th>\n",
              "      <td>140000.000000</td>\n",
              "      <td>2.000000</td>\n",
              "      <td>2.000000</td>\n",
              "      <td>2.000000</td>\n",
              "      <td>34.000000</td>\n",
              "      <td>0.000000</td>\n",
              "      <td>0.000000</td>\n",
              "      <td>0.000000</td>\n",
              "      <td>0.000000</td>\n",
              "      <td>0.000000</td>\n",
              "      <td>...</td>\n",
              "      <td>19052.000000</td>\n",
              "      <td>18104.500000</td>\n",
              "      <td>17071.000000</td>\n",
              "      <td>2100.000000</td>\n",
              "      <td>2.009000e+03</td>\n",
              "      <td>1800.00000</td>\n",
              "      <td>1500.000000</td>\n",
              "      <td>1500.000000</td>\n",
              "      <td>1500.000000</td>\n",
              "      <td>0.000000</td>\n",
              "    </tr>\n",
              "    <tr>\n",
              "      <th>75%</th>\n",
              "      <td>240000.000000</td>\n",
              "      <td>2.000000</td>\n",
              "      <td>2.000000</td>\n",
              "      <td>2.000000</td>\n",
              "      <td>41.000000</td>\n",
              "      <td>0.000000</td>\n",
              "      <td>0.000000</td>\n",
              "      <td>0.000000</td>\n",
              "      <td>0.000000</td>\n",
              "      <td>0.000000</td>\n",
              "      <td>...</td>\n",
              "      <td>54506.000000</td>\n",
              "      <td>50190.500000</td>\n",
              "      <td>49198.250000</td>\n",
              "      <td>5006.000000</td>\n",
              "      <td>5.000000e+03</td>\n",
              "      <td>4505.00000</td>\n",
              "      <td>4013.250000</td>\n",
              "      <td>4031.500000</td>\n",
              "      <td>4000.000000</td>\n",
              "      <td>0.000000</td>\n",
              "    </tr>\n",
              "    <tr>\n",
              "      <th>max</th>\n",
              "      <td>1000000.000000</td>\n",
              "      <td>2.000000</td>\n",
              "      <td>6.000000</td>\n",
              "      <td>3.000000</td>\n",
              "      <td>79.000000</td>\n",
              "      <td>8.000000</td>\n",
              "      <td>8.000000</td>\n",
              "      <td>8.000000</td>\n",
              "      <td>8.000000</td>\n",
              "      <td>8.000000</td>\n",
              "      <td>...</td>\n",
              "      <td>891586.000000</td>\n",
              "      <td>927171.000000</td>\n",
              "      <td>961664.000000</td>\n",
              "      <td>873552.000000</td>\n",
              "      <td>1.684259e+06</td>\n",
              "      <td>896040.00000</td>\n",
              "      <td>621000.000000</td>\n",
              "      <td>426529.000000</td>\n",
              "      <td>528666.000000</td>\n",
              "      <td>1.000000</td>\n",
              "    </tr>\n",
              "  </tbody>\n",
              "</table>\n",
              "<p>8 rows × 24 columns</p>\n",
              "</div>"
            ],
            "text/plain": [
              "            LIMIT_BAL           SEX     EDUCATION      MARRIAGE           AGE  \\\n",
              "count    30000.000000  30000.000000  30000.000000  30000.000000  30000.000000   \n",
              "mean    167484.322667      1.603733      1.853133      1.551867     35.485500   \n",
              "std     129747.661567      0.489129      0.790349      0.521970      9.217904   \n",
              "min      10000.000000      1.000000      0.000000      0.000000     21.000000   \n",
              "25%      50000.000000      1.000000      1.000000      1.000000     28.000000   \n",
              "50%     140000.000000      2.000000      2.000000      2.000000     34.000000   \n",
              "75%     240000.000000      2.000000      2.000000      2.000000     41.000000   \n",
              "max    1000000.000000      2.000000      6.000000      3.000000     79.000000   \n",
              "\n",
              "              PAY_0         PAY_2         PAY_3         PAY_4         PAY_5  \\\n",
              "count  30000.000000  30000.000000  30000.000000  30000.000000  30000.000000   \n",
              "mean      -0.016700     -0.133767     -0.166200     -0.220667     -0.266200   \n",
              "std        1.123802      1.197186      1.196868      1.169139      1.133187   \n",
              "min       -2.000000     -2.000000     -2.000000     -2.000000     -2.000000   \n",
              "25%       -1.000000     -1.000000     -1.000000     -1.000000     -1.000000   \n",
              "50%        0.000000      0.000000      0.000000      0.000000      0.000000   \n",
              "75%        0.000000      0.000000      0.000000      0.000000      0.000000   \n",
              "max        8.000000      8.000000      8.000000      8.000000      8.000000   \n",
              "\n",
              "       ...      BILL_AMT4      BILL_AMT5      BILL_AMT6       PAY_AMT1  \\\n",
              "count  ...   30000.000000   30000.000000   30000.000000   30000.000000   \n",
              "mean   ...   43262.948967   40311.400967   38871.760400    5663.580500   \n",
              "std    ...   64332.856134   60797.155770   59554.107537   16563.280354   \n",
              "min    ... -170000.000000  -81334.000000 -339603.000000       0.000000   \n",
              "25%    ...    2326.750000    1763.000000    1256.000000    1000.000000   \n",
              "50%    ...   19052.000000   18104.500000   17071.000000    2100.000000   \n",
              "75%    ...   54506.000000   50190.500000   49198.250000    5006.000000   \n",
              "max    ...  891586.000000  927171.000000  961664.000000  873552.000000   \n",
              "\n",
              "           PAY_AMT2      PAY_AMT3       PAY_AMT4       PAY_AMT5  \\\n",
              "count  3.000000e+04   30000.00000   30000.000000   30000.000000   \n",
              "mean   5.921163e+03    5225.68150    4826.076867    4799.387633   \n",
              "std    2.304087e+04   17606.96147   15666.159744   15278.305679   \n",
              "min    0.000000e+00       0.00000       0.000000       0.000000   \n",
              "25%    8.330000e+02     390.00000     296.000000     252.500000   \n",
              "50%    2.009000e+03    1800.00000    1500.000000    1500.000000   \n",
              "75%    5.000000e+03    4505.00000    4013.250000    4031.500000   \n",
              "max    1.684259e+06  896040.00000  621000.000000  426529.000000   \n",
              "\n",
              "            PAY_AMT6  default payment next month  \n",
              "count   30000.000000                30000.000000  \n",
              "mean     5215.502567                    0.221200  \n",
              "std     17777.465775                    0.415062  \n",
              "min         0.000000                    0.000000  \n",
              "25%       117.750000                    0.000000  \n",
              "50%      1500.000000                    0.000000  \n",
              "75%      4000.000000                    0.000000  \n",
              "max    528666.000000                    1.000000  \n",
              "\n",
              "[8 rows x 24 columns]"
            ]
          },
          "execution_count": 10,
          "metadata": {},
          "output_type": "execute_result"
        }
      ],
      "source": [
        "# Variables description\n",
        "\n",
        "df.describe()\n"
      ]
    },
    {
      "cell_type": "markdown",
      "metadata": {},
      "source": [
        "Variables Numériques (numerical_features) :\n",
        "LIMIT_BAL (Montant du crédit)\n",
        "AGE\n",
        "BILL_AMT1, BILL_AMT2, BILL_AMT3, BILL_AMT4, BILL_AMT5, BILL_AMT6 (Montants des factures)\n",
        "PAY_AMT1, PAY_AMT2, PAY_AMT3, PAY_AMT4, PAY_AMT5, PAY_AMT6 (Montants des paiements)\n",
        "\n",
        "Variables Catégorielles (categorical_features) :\n",
        "SEX (Sexe)\n",
        "EDUCATION (Niveau d'éducation)\n",
        "MARRIAGE (Statut marital)\n",
        "PAY_0, PAY_2, PAY_3, PAY_4, PAY_5, PAY_6 (Historique de paiement - Bien que représentées numériquement, elles sont catégorielles car elles représentent des catégories de remboursement)\n",
        "\n",
        "Variable Cible :\n",
        "default payment next month (Défaut de paiement le mois prochain  est notre variable cible, celle que nous voulons prédire)"
      ]
    },
    {
      "cell_type": "code",
      "execution_count": 11,
      "metadata": {},
      "outputs": [],
      "source": [
        "# Équilibrage des classes avec RandomOverSampler\n",
        "ros = ROS(random_state=42)\n",
        "X_resampled, y_resampled = ros.fit_resample(X, y)\n"
      ]
    },
    {
      "cell_type": "code",
      "execution_count": 12,
      "metadata": {},
      "outputs": [
        {
          "name": "stdout",
          "output_type": "stream",
          "text": [
            "\n",
            "Dimensions après traitement :\n",
            "Train : (37382, 23), (37382,)\n",
            "Test  : (9346, 23), (9346,)\n"
          ]
        }
      ],
      "source": [
        "\n",
        "# Séparation des features et de la cible\n",
        "X = df.drop(columns=[\"default payment next month\"])\n",
        "y = df[\"default payment next month\"]\n",
        "\n",
        "# Division en ensemble d'entraînement et de test\n",
        "X_train, X_test, y_train, y_test = train_test_split(X_resampled, y_resampled, test_size=0.2, random_state=42, stratify=y_resampled)\n",
        "\n",
        "# Standardisation des données\n",
        "scaler = StandardScaler()\n",
        "X_train_preprocessed = scaler.fit_transform(X_train)\n",
        "X_test_preprocessed = scaler.transform(X_test)\n",
        "\n",
        "# Vérification des dimensions après traitement\n",
        "print(\"\\nDimensions après traitement :\")\n",
        "print(f\"Train : {X_train_preprocessed.shape}, {y_train.shape}\")\n",
        "print(f\"Test  : {X_test_preprocessed.shape}, {y_test.shape}\")"
      ]
    },
    {
      "cell_type": "code",
      "execution_count": 13,
      "metadata": {},
      "outputs": [
        {
          "name": "stdout",
          "output_type": "stream",
          "text": [
            "Taille totale après oversampling : 30000\n",
            "Attendu pour l'entraînement : 24000, Obtenu : 37382\n",
            "Attendu pour le test : 6000, Obtenu : 9346\n"
          ]
        }
      ],
      "source": [
        "total_samples = len(y)\n",
        "train_size = len(y_train)\n",
        "test_size = len(y_test)\n",
        "\n",
        "print(f\"Taille totale après oversampling : {total_samples}\")\n",
        "print(f\"Attendu pour l'entraînement : {0.8 * total_samples:.0f}, Obtenu : {train_size}\")\n",
        "print(f\"Attendu pour le test : {0.2 * total_samples:.0f}, Obtenu : {test_size}\")"
      ]
    },
    {
      "cell_type": "markdown",
      "metadata": {},
      "source": [
        "**regression logistique**"
      ]
    },
    {
      "cell_type": "code",
      "execution_count": 14,
      "metadata": {},
      "outputs": [
        {
          "name": "stdout",
          "output_type": "stream",
          "text": [
            "\n",
            "Classification Report:\n",
            "               precision    recall  f1-score   support\n",
            "\n",
            "           0       0.66      0.70      0.68      4673\n",
            "           1       0.68      0.64      0.66      4673\n",
            "\n",
            "    accuracy                           0.67      9346\n",
            "   macro avg       0.67      0.67      0.67      9346\n",
            "weighted avg       0.67      0.67      0.67      9346\n",
            "\n"
          ]
        },
        {
          "data": {
            "image/png": "[encoded data removed]",
            "text/plain": [
              "<Figure size 400x300 with 2 Axes>"
            ]
          },
          "metadata": {},
          "output_type": "display_data"
        }
      ],
      "source": [
        "# Entraîner le modèle de régression logistique\n",
        "model = LogisticRegression(max_iter=1000)\n",
        "model.fit(X_train_preprocessed, y_train)\n",
        "# Prédire sur l'ensemble de test\n",
        "y_pred = model.predict(X_test_preprocessed)\n",
        "y_prob = model.predict_proba(X_test_preprocessed)[:, 1]  # Probabilités pour la classe \"Défaut\"\n",
        "#  8. Évaluer le modèle\n",
        "accuracy = accuracy_score(y_test, y_pred)\n",
        "auc_score = roc_auc_score(y_test, y_prob)\n",
        "report = classification_report(y_test, y_pred)\n",
        "\n",
        "\n",
        "print(\"\\nClassification Report:\\n\", report)\n",
        "\n",
        "#  9. Calcul de la matrice de confusion\n",
        "cm = confusion_matrix(y_test, y_pred)\n",
        "# Création de la heatmap\n",
        "plt.figure(figsize=(4, 3))\n",
        "sns.heatmap(cm, annot=True, fmt='d', cmap='Blues', \n",
        "            xticklabels=['Pas de défaut', 'Défaut'], \n",
        "            yticklabels=['Pas de défaut', 'Défaut'])\n",
        "plt.xlabel('Prédiction')\n",
        "plt.ylabel('Réalité')\n",
        "plt.title('Matrice de Confusion')\n",
        "plt.show()"
      ]
    },
    {
      "cell_type": "markdown",
      "metadata": {},
      "source": [
        "Classe 0\n",
        "\n",
        "- **Précision** : 0.78. Lorsque le modèle prédit qu'un exemple appartient à la classe 0, il a raison dans 78 % des cas.\n",
        "- **Rappel** : 0.74. Le modèle identifie correctement 74 % de tous les exemples qui appartiennent réellement à la classe 0.\n",
        "- **Score F1** : 0.76. Une moyenne entre la précision et le rappel, montrant une bonne performance pour cette classe.\n",
        "- **Support** : 4673. Le nombre total d'exemples appartenant à la classe 0.\n",
        "\n",
        "Classe 1\n",
        "\n",
        "- **Précision** : 0.21. Lorsque le modèle prédit qu'un exemple appartient à la classe 1, il n'a raison que dans 21 % des cas, ce qui est un score très faible.\n",
        "- **Rappel** : 0.25. Le modèle identifie correctement seulement 25 % de tous les exemples qui appartiennent réellement à la classe 1, indiquant des difficultés à bien détecter cette classe.\n",
        "- **Score F1** : 0.23. Un score faible qui confirme que le modèle a du mal avec la classe 1.\n",
        "- **Support** : 1327. Le nombre total d'exemples appartenant à la classe 1.\n",
        "\n",
        "Moyennes\n",
        "\n",
        "- **Exactitude** : 0.63. Pourcentage global de prédictions correctes, mais cette métrique est biaisée par le déséquilibre des classes.\n",
        "- **Moyenne macro** : La moyenne des scores F1 pour les deux classes est de 0.49, indiquant un équilibre moyen.\n",
        "- **Moyenne pondérée** : La moyenne pondérée des scores F1 est de 0.64, reflétant la forte influence de la classe majoritaire.\n",
        "\n"
      ]
    },
    {
      "cell_type": "markdown",
      "metadata": {},
      "source": [
        "nous constatons un desequilibre des classes car Le nombre d'exemples dans la classe 0 est beaucoup plus élevé que dans la classe 1. Cela peut biaiser le modèle en faveur de la classe majoritaire.\n",
        "egalement des difficultes aves la classe 1 car Le modèle a du mal à identifier correctement les exemples de la classe 1 (précision et rappel faibles). C'est le principal point faible du modèle."
      ]
    },
    {
      "cell_type": "markdown",
      "metadata": {},
      "source": [
        "**KNN**"
      ]
    },
    {
      "cell_type": "code",
      "execution_count": 15,
      "metadata": {},
      "outputs": [
        {
          "name": "stdout",
          "output_type": "stream",
          "text": [
            "Accuracy: 0.7335\n",
            "AUC-ROC Score: 0.8166\n",
            "\n",
            "Classification Report:\n",
            "               precision    recall  f1-score   support\n",
            "\n",
            "           0       0.77      0.67      0.72      4673\n",
            "           1       0.71      0.80      0.75      4673\n",
            "\n",
            "    accuracy                           0.73      9346\n",
            "   macro avg       0.74      0.73      0.73      9346\n",
            "weighted avg       0.74      0.73      0.73      9346\n",
            "\n"
          ]
        },
        {
          "data": {
            "image/png": "[encoded data removed]",
            "text/plain": [
              "<Figure size 400x400 with 2 Axes>"
            ]
          },
          "metadata": {},
          "output_type": "display_data"
        }
      ],
      "source": [
        "\n",
        "\n",
        "knn = KNeighborsClassifier(n_neighbors=7)  # Choisissez votre valeur de k\n",
        "knn.fit(X_train_preprocessed, y_train)\n",
        "\n",
        "#  6. Prédiction\n",
        "y_pred = knn.predict(X_test_preprocessed)\n",
        "y_prob = knn.predict_proba(X_test_preprocessed)[:, 1]  # Probabilités pour la classe \"Défaut\"\n",
        "\n",
        "#  7. Évaluation du modèle\n",
        "accuracy = accuracy_score(y_test, y_pred)\n",
        "auc_score = roc_auc_score(y_test, y_prob)\n",
        "\n",
        "print(f\"Accuracy: {accuracy:.4f}\")\n",
        "print(f\"AUC-ROC Score: {auc_score:.4f}\")\n",
        "print(\"\\nClassification Report:\\n\", classification_report(y_test, y_pred))\n",
        "\n",
        "#  8. Matrice de confusion\n",
        "cm = confusion_matrix(y_test, y_pred)\n",
        "\n",
        "plt.figure(figsize=(4, 4))\n",
        "sns.heatmap(cm, annot=True, fmt='d', cmap='Blues',\n",
        "            xticklabels=['Pas de défaut', 'Défaut'],  \n",
        "            yticklabels=['Pas de défaut', 'Défaut'])\n",
        "plt.xlabel('Prédiction')\n",
        "plt.ylabel('Réalité')\n",
        "plt.title('Matrice de Confusion (KNN)')\n",
        "plt.show()\n"
      ]
    },
    {
      "cell_type": "markdown",
      "metadata": {},
      "source": [
        "Classe 0\n",
        "\n",
        "- **Précision** : 0.80. Lorsque le modèle prédit qu'un exemple appartient à la classe 0, il a raison dans 80 % des cas.\n",
        "- **Rappel** : 0.93. Le modèle identifie correctement 93 % de tous les exemples qui appartiennent réellement à la classe 0.\n",
        "- **Score F1** : 0.86. Une moyenne entre la précision et le rappel, montrant une bonne performance pour cette classe.\n",
        "- **Support** : 4673. Le nombre total d'exemples appartenant à la classe 0.\n",
        "\n",
        "Classe 1\n",
        "\n",
        "- **Précision** : 0.39. Lorsque le modèle prédit qu'un exemple appartient à la classe 1, il n'a raison que dans 39 % des cas, ce qui est un score faible.\n",
        "- **Rappel** : 0.16. Le modèle identifie correctement seulement 16 % de tous les exemples qui appartiennent réellement à la classe 1, indiquant de grandes difficultés à bien détecter cette classe.\n",
        "- **Score F1** : 0.23. Un score faible qui confirme que le modèle a du mal avec la classe 1.\n",
        "- **Support** : 1327. Le nombre total d'exemples appartenant à la classe 1.\n",
        "\n",
        "Moyennes\n",
        "\n",
        "- **Exactitude** : 0.76. Pourcentage global de prédictions correctes, mais cette métrique est biaisée par le déséquilibre des classes.\n",
        "- **Moyenne macro** : La moyenne des scores F1 pour les deux classes est de 0.54, indiquant un équilibre moyen.\n",
        "- **Moyenne pondérée** : La moyenne pondérée des scores F1 est de 0.72, reflétant la forte influence de la classe majoritaire.\n",
        "\n"
      ]
    },
    {
      "cell_type": "markdown",
      "metadata": {},
      "source": [
        "**ARBRE DE DECISION**"
      ]
    },
    {
      "cell_type": "code",
      "execution_count": 17,
      "metadata": {},
      "outputs": [
        {
          "name": "stdout",
          "output_type": "stream",
          "text": [
            "Performance sur l'ensemble d'entraînement :\n",
            "              precision    recall  f1-score   support\n",
            "\n",
            "           0       0.75      0.79      0.77     18691\n",
            "           1       0.78      0.74      0.76     18691\n",
            "\n",
            "    accuracy                           0.76     37382\n",
            "   macro avg       0.76      0.76      0.76     37382\n",
            "weighted avg       0.76      0.76      0.76     37382\n",
            "\n"
          ]
        },
        {
          "data": {
            "image/png": "[encoded data removed]",
            "text/plain": [
              "<Figure size 400x400 with 2 Axes>"
            ]
          },
          "metadata": {},
          "output_type": "display_data"
        }
      ],
      "source": [
        "# 1. Évaluation sur l'ensemble d'entraînement\n",
        "tree = DecisionTreeClassifier(max_depth=10, random_state=2)\n",
        "tree.fit(X_train, y_train)\n",
        "y_pred_train = tree.predict(X_train)\n",
        "\n",
        "print(\"Performance sur l'ensemble d'entraînement :\")\n",
        "print(classification_report(y_train, y_pred_train))\n",
        "\n",
        "cm = confusion_matrix(y_test, y_pred)\n",
        "plt.figure(figsize=(4, 4))\n",
        "sns.heatmap(cm, annot=True, fmt='d', cmap='Blues',\n",
        "            xticklabels=['Pas de défaut', 'Défaut'],\n",
        "            yticklabels=['Pas de défaut', 'Défaut'])\n",
        "plt.xlabel('Prédiction')\n",
        "plt.ylabel('Réalité')\n",
        "plt.title('Matrice de Confusion (Arbre de Décision)')\n",
        "plt.show()"
      ]
    },
    {
      "cell_type": "code",
      "execution_count": 16,
      "metadata": {},
      "outputs": [
        {
          "name": "stdout",
          "output_type": "stream",
          "text": [
            "Performance sur l'ensemble de test :\n",
            "              precision    recall  f1-score   support\n",
            "\n",
            "           0       0.73      0.76      0.74      4673\n",
            "           1       0.75      0.71      0.73      4673\n",
            "\n",
            "    accuracy                           0.74      9346\n",
            "   macro avg       0.74      0.74      0.74      9346\n",
            "weighted avg       0.74      0.74      0.74      9346\n",
            "\n"
          ]
        },
        {
          "data": {
            "image/png": "[encoded data removed]",
            "text/plain": [
              "<Figure size 400x400 with 2 Axes>"
            ]
          },
          "metadata": {},
          "output_type": "display_data"
        }
      ],
      "source": [
        "# 1. Évaluation sur l'ensemble d'entraînement\n",
        "# 1. Évaluation sur l'ensemble d'entraînement avec un arbre de décision\n",
        "tree = DecisionTreeClassifier(max_depth=10, random_state=42)\n",
        "tree.fit(X_train_preprocessed, y_train)  # Utilisation des données équilibrées et normalisées\n",
        "\n",
        "# Prédictions sur l'entraînement et le test\n",
        "y_pred_train = tree.predict(X_train_preprocessed)\n",
        "y_pred_test = tree.predict(X_test_preprocessed)\n",
        "\n",
        "# Évaluation sur l'ensemble de test\n",
        "print(\"Performance sur l'ensemble de test :\")\n",
        "print(classification_report(y_test, y_pred_test))\n",
        "\n",
        "cm = confusion_matrix(y_test, y_pred_test)\n",
        "plt.figure(figsize=(4, 4))\n",
        "sns.heatmap(cm, annot=True, fmt='d', cmap='Blues',\n",
        "            xticklabels=['Pas de défaut', 'Défaut'],\n",
        "            yticklabels=['Pas de défaut', 'Défaut'])\n",
        "plt.xlabel('Prédiction')\n",
        "plt.ylabel('Réalité')\n",
        "plt.title('Matrice de Confusion (Arbre de Décision)')\n",
        "plt.show()"
      ]
    },
    {
      "cell_type": "markdown",
      "metadata": {},
      "source": [
        "Performance sur l'ensemble d'entraînement :\n",
        "\n",
        "Classe 0\n",
        "\n",
        "- **Précision** : 0.86. Lorsque le modèle prédit qu'un exemple appartient à la classe 0, il a raison dans 86 % des cas.\n",
        "- **Rappel** : 0.96. Le modèle identifie correctement 96 % de tous les exemples qui appartiennent réellement à la classe 0.\n",
        "- **Score F1** : 0.91. Une très bonne performance pour cette classe.\n",
        "- **Support** : 18691. Le nombre total d'exemples appartenant à la classe 0.\n",
        "\n",
        "Classe 1\n",
        "\n",
        "- **Précision** : 0.77. Lorsque le modèle prédit qu'un exemple appartient à la classe 1, il a raison dans 77 % des cas, ce qui est relativement bon.\n",
        "- **Rappel** : 0.43. Le modèle identifie correctement seulement 43 % de tous les exemples qui appartiennent réellement à la classe 1, indiquant une difficulté à bien détecter cette classe.\n",
        "- **Score F1** : 0.55. Un score modéré qui montre que le modèle a encore des marges d'amélioration pour la classe 1.\n",
        "- **Support** : 5309. Le nombre total d'exemples appartenant à la classe 1.\n",
        "\n",
        "Moyennes\n",
        "\n",
        "- **Exactitude** : 0.84. Le pourcentage global de prédictions correctes est élevé, mais il est influencé par la forte proportion de la classe 0.\n",
        "- **Moyenne macro** : La moyenne des scores F1 pour les deux classes est de 0.73, ce qui montre une bonne performance globale mais un déséquilibre entre les classes.\n",
        "- **Moyenne pondérée** : La moyenne pondérée des scores F1 est de 0.83, confirmant que le modèle fonctionne bien sur l'ensemble d'entraînement.\n",
        "\n"
      ]
    },
    {
      "cell_type": "markdown",
      "metadata": {},
      "source": [
        "\n",
        "Amélioration significative :  Le modèle actuel (l'arbre de décision avec une profondeur maximale de 10) montre une amélioration notable par rapport aux modèles précédents, en particulier pour la classe 1.  La précision pour la classe 1 a presque doublé, ce qui est un progrès important.\n",
        "\n",
        "Point faible : le rappel pour la classe 1 :  Bien que la précision se soit améliorée, le rappel pour la classe 1 reste un point faible.  Cela signifie que le modèle manque encore une proportion importante de cas réels de défaut."
      ]
    },
    {
      "cell_type": "markdown",
      "metadata": {},
      "source": [
        "#Analyse comparative"
      ]
    },
    {
      "cell_type": "markdown",
      "metadata": {},
      "source": [
        "### Analyse comparative des trois modèles\n",
        "\n",
        "#### Performance globale\n",
        "\n",
        "Les trois modèles évalués – **Régression Logistique, K-Plus Proches Voisins (KPPV), et Arbre de Décision** – présentent des performances variées en fonction des métriques de classification.\n",
        "\n",
        "| Modèle                     | Exactitude | Précision Classe 1 | Rappel Classe 1 | F1-Score Classe 1 |\n",
        "|----------------------------|------------|-------------------|----------------|----------------|\n",
        "| **Régression Logistique**  | 0.63       | 0.21              | 0.25           | 0.23           |\n",
        "| **KPPV (k=7)**             | 0.76       | 0.39              | 0.16           | 0.23           |\n",
        "| **Arbre de Décision (Entraînement)** | 0.84       | 0.77              | 0.43           | 0.55           |\n",
        "\n",
        "#### Analyse des résultats\n",
        "\n",
        "1. **Exactitude (Accuracy) :**\n",
        "   - L’**Arbre de Décision** est le modèle le plus performant avec une exactitude de **84%**, suivi du **KPPV** avec **76%**.\n",
        "   - La **Régression Logistique** est la moins performante avec une exactitude de **63%**, indiquant une difficulté à bien séparer les classes.\n",
        "\n",
        "2. **Précision de la Classe 1 (Défaut de paiement) :**\n",
        "   - L’**Arbre de Décision** atteint une précision de **0.77**, ce qui signifie qu’il produit moins de faux positifs.\n",
        "   - Le **KPPV** suit avec une précision de **0.39**, tandis que la **Régression Logistique** a la précision la plus basse à **0.21**.\n",
        "\n",
        "3. **Rappel de la Classe 1 :**\n",
        "   - L’**Arbre de Décision** détecte le plus de défauts de paiement réels (0.43), ce qui est mieux que les autres modèles mais encore insuffisant.\n",
        "   - La **Régression Logistique** et le **KPPV** ont un rappel faible, avec **0.25** et **0.16** respectivement, ce qui signifie qu’ils détectent peu de cas réels de défauts.\n",
        "\n",
        "4. **Score F1 (Compromis entre précision et rappel) :**\n",
        "   - L’**Arbre de Décision** atteint le meilleur score F1 (**0.55**), montrant un bon équilibre entre précision et rappel.\n",
        "   - Le **KPPV** et la **Régression Logistique** sont à égalité avec un F1-score de **0.23**, ce qui indique qu’ils ne parviennent pas à bien gérer les cas de défauts de paiement.\n",
        "\n",
        "#### Conclusion\n",
        "- **L’**Arbre de Décision** est le modèle le plus performant sur cette tâche, atteignant la meilleure combinaison de précision et de rappel.\n",
        "- **Le KPPV (k=7)** a une bonne exactitude globale mais échoue à bien détecter la classe minoritaire (défauts de paiement), avec un rappel très faible.\n",
        "- **La Régression Logistique** ne s’adapte pas bien aux données et montre les pires performances, ce qui suggère qu’un modèle linéaire ne capture pas bien la complexité du problème.\n",
        "\n"
      ]
    }
  ],
  "metadata": {
    "colab": {
      "provenance": []
    },
    "kernelspec": {
      "display_name": "Python 3",
      "name": "python3"
    },
    "language_info": {
      "codemirror_mode": {
        "name": "ipython",
        "version": 3
      },
      "file_extension": ".py",
      "mimetype": "text/x-python",
      "name": "python",
      "nbconvert_exporter": "python",
      "pygments_lexer": "ipython3",
      "version": "3.11.8"
    }
  },
  "nbformat": 4,
  "nbformat_minor": 0
}
